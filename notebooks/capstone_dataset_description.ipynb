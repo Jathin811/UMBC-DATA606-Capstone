{
 "cells": [
  {
   "cell_type": "code",
   "execution_count": 1,
   "id": "921d502e-a186-47ef-be85-538188d4b875",
   "metadata": {
    "tags": []
   },
   "outputs": [
    {
     "name": "stdout",
     "output_type": "stream",
     "text": [
      "Defaulting to user installation because normal site-packages is not writeable\n",
      "Requirement already satisfied: pandas in c:\\programdata\\anaconda3\\lib\\site-packages (2.0.3)\n",
      "Requirement already satisfied: python-dateutil>=2.8.2 in c:\\programdata\\anaconda3\\lib\\site-packages (from pandas) (2.8.2)\n",
      "Requirement already satisfied: pytz>=2020.1 in c:\\programdata\\anaconda3\\lib\\site-packages (from pandas) (2023.3.post1)\n",
      "Requirement already satisfied: tzdata>=2022.1 in c:\\programdata\\anaconda3\\lib\\site-packages (from pandas) (2023.3)\n",
      "Requirement already satisfied: numpy>=1.21.0 in c:\\programdata\\anaconda3\\lib\\site-packages (from pandas) (1.24.3)\n",
      "Requirement already satisfied: six>=1.5 in c:\\programdata\\anaconda3\\lib\\site-packages (from python-dateutil>=2.8.2->pandas) (1.16.0)\n"
     ]
    }
   ],
   "source": [
    "!pip install pandas"
   ]
  },
  {
   "cell_type": "code",
   "execution_count": 2,
   "id": "7cabfe80-d0a3-4218-8f03-6e13b9642525",
   "metadata": {
    "tags": []
   },
   "outputs": [],
   "source": [
    "import pandas as pd\n"
   ]
  },
  {
   "cell_type": "code",
   "execution_count": 3,
   "id": "016ca03a-3369-42c5-97d4-39cc560b29d2",
   "metadata": {
    "tags": []
   },
   "outputs": [
    {
     "name": "stderr",
     "output_type": "stream",
     "text": [
      "C:\\Users\\jathi\\AppData\\Local\\Temp\\ipykernel_19708\\3085491810.py:2: DtypeWarning: Columns (3) have mixed types. Specify dtype option on import or set low_memory=False.\n",
      "  df = pd.read_csv(file_path)\n"
     ]
    }
   ],
   "source": [
    "file_path = \"C:/Users/jathi/Downloads/Motor_Vehicle_Collisions_-_Crashes_20240204.csv\"\n",
    "df = pd.read_csv(file_path)"
   ]
  },
  {
   "cell_type": "code",
   "execution_count": 4,
   "id": "dc2b80e7-bdba-4ea8-84e2-90d4d36087f8",
   "metadata": {
    "tags": []
   },
   "outputs": [
    {
     "name": "stdout",
     "output_type": "stream",
     "text": [
      "Dataset Info:\n",
      "<class 'pandas.core.frame.DataFrame'>\n",
      "RangeIndex: 2062758 entries, 0 to 2062757\n",
      "Data columns (total 29 columns):\n",
      " #   Column                         Dtype  \n",
      "---  ------                         -----  \n",
      " 0   CRASH DATE                     object \n",
      " 1   CRASH TIME                     object \n",
      " 2   BOROUGH                        object \n",
      " 3   ZIP CODE                       object \n",
      " 4   LATITUDE                       float64\n",
      " 5   LONGITUDE                      float64\n",
      " 6   LOCATION                       object \n",
      " 7   ON STREET NAME                 object \n",
      " 8   CROSS STREET NAME              object \n",
      " 9   OFF STREET NAME                object \n",
      " 10  NUMBER OF PERSONS INJURED      float64\n",
      " 11  NUMBER OF PERSONS KILLED       float64\n",
      " 12  NUMBER OF PEDESTRIANS INJURED  int64  \n",
      " 13  NUMBER OF PEDESTRIANS KILLED   int64  \n",
      " 14  NUMBER OF CYCLIST INJURED      int64  \n",
      " 15  NUMBER OF CYCLIST KILLED       int64  \n",
      " 16  NUMBER OF MOTORIST INJURED     int64  \n",
      " 17  NUMBER OF MOTORIST KILLED      int64  \n",
      " 18  CONTRIBUTING FACTOR VEHICLE 1  object \n",
      " 19  CONTRIBUTING FACTOR VEHICLE 2  object \n",
      " 20  CONTRIBUTING FACTOR VEHICLE 3  object \n",
      " 21  CONTRIBUTING FACTOR VEHICLE 4  object \n",
      " 22  CONTRIBUTING FACTOR VEHICLE 5  object \n",
      " 23  COLLISION_ID                   int64  \n",
      " 24  VEHICLE TYPE CODE 1            object \n",
      " 25  VEHICLE TYPE CODE 2            object \n",
      " 26  VEHICLE TYPE CODE 3            object \n",
      " 27  VEHICLE TYPE CODE 4            object \n",
      " 28  VEHICLE TYPE CODE 5            object \n",
      "dtypes: float64(4), int64(7), object(18)\n",
      "memory usage: 456.4+ MB\n",
      "None\n"
     ]
    }
   ],
   "source": [
    "# Display basic information about the dataset\n",
    "print(\"Dataset Info:\")\n",
    "print(df.info())"
   ]
  },
  {
   "cell_type": "code",
   "execution_count": 5,
   "id": "683db366-f9f2-4508-902c-9d51117036c7",
   "metadata": {
    "tags": []
   },
   "outputs": [
    {
     "name": "stdout",
     "output_type": "stream",
     "text": [
      "\n",
      "Summary Statistics:\n",
      "           LATITUDE     LONGITUDE  NUMBER OF PERSONS INJURED  \\\n",
      "count  1.829880e+06  1.829880e+06               2.062740e+06   \n",
      "mean   4.062756e+01 -7.375189e+01               3.082298e-01   \n",
      "std    1.982301e+00  3.727058e+00               6.986642e-01   \n",
      "min    0.000000e+00 -2.013600e+02               0.000000e+00   \n",
      "25%    4.066783e+01 -7.397489e+01               0.000000e+00   \n",
      "50%    4.072085e+01 -7.392727e+01               0.000000e+00   \n",
      "75%    4.076958e+01 -7.386673e+01               0.000000e+00   \n",
      "max    4.334444e+01  0.000000e+00               4.300000e+01   \n",
      "\n",
      "       NUMBER OF PERSONS KILLED  NUMBER OF PEDESTRIANS INJURED  \\\n",
      "count              2.062727e+06                   2.062758e+06   \n",
      "mean               1.483473e-03                   5.624460e-02   \n",
      "std                4.064383e-02                   2.434961e-01   \n",
      "min                0.000000e+00                   0.000000e+00   \n",
      "25%                0.000000e+00                   0.000000e+00   \n",
      "50%                0.000000e+00                   0.000000e+00   \n",
      "75%                0.000000e+00                   0.000000e+00   \n",
      "max                8.000000e+00                   2.700000e+01   \n",
      "\n",
      "       NUMBER OF PEDESTRIANS KILLED  NUMBER OF CYCLIST INJURED  \\\n",
      "count                  2.062758e+06               2.062758e+06   \n",
      "mean                   7.373623e-04               2.671326e-02   \n",
      "std                    2.762241e-02               1.632521e-01   \n",
      "min                    0.000000e+00               0.000000e+00   \n",
      "25%                    0.000000e+00               0.000000e+00   \n",
      "50%                    0.000000e+00               0.000000e+00   \n",
      "75%                    0.000000e+00               0.000000e+00   \n",
      "max                    6.000000e+00               4.000000e+00   \n",
      "\n",
      "       NUMBER OF CYCLIST KILLED  NUMBER OF MOTORIST INJURED  \\\n",
      "count              2.062758e+06                2.062758e+06   \n",
      "mean               1.134404e-04                2.217158e-01   \n",
      "std                1.069566e-02                6.597275e-01   \n",
      "min                0.000000e+00                0.000000e+00   \n",
      "25%                0.000000e+00                0.000000e+00   \n",
      "50%                0.000000e+00                0.000000e+00   \n",
      "75%                0.000000e+00                0.000000e+00   \n",
      "max                2.000000e+00                4.300000e+01   \n",
      "\n",
      "       NUMBER OF MOTORIST KILLED  COLLISION_ID  \n",
      "count               2.062758e+06  2.062758e+06  \n",
      "mean                6.093783e-04  3.150132e+06  \n",
      "std                 2.704023e-02  1.504865e+06  \n",
      "min                 0.000000e+00  2.200000e+01  \n",
      "25%                 0.000000e+00  3.151809e+06  \n",
      "50%                 0.000000e+00  3.667618e+06  \n",
      "75%                 0.000000e+00  4.183548e+06  \n",
      "max                 5.000000e+00  4.699551e+06  \n"
     ]
    }
   ],
   "source": [
    "# Display basic statistics of numeric columns\n",
    "print(\"\\nSummary Statistics:\")\n",
    "print(df.describe())"
   ]
  },
  {
   "cell_type": "code",
   "execution_count": 6,
   "id": "c6282f37-8160-47e1-9ca4-2ebeaf566965",
   "metadata": {
    "tags": []
   },
   "outputs": [
    {
     "name": "stdout",
     "output_type": "stream",
     "text": [
      "\n",
      "Number of Rows and Columns:\n",
      "(2062758, 29)\n"
     ]
    }
   ],
   "source": [
    "# Display the number of rows and columns\n",
    "print(\"\\nNumber of Rows and Columns:\")\n",
    "print(df.shape)"
   ]
  },
  {
   "cell_type": "code",
   "execution_count": 7,
   "id": "62c4bb1a-8ee4-4cfa-b8f1-7167f0bd8d37",
   "metadata": {
    "tags": []
   },
   "outputs": [
    {
     "name": "stdout",
     "output_type": "stream",
     "text": [
      "\n",
      "Column Names:\n",
      "Index(['CRASH DATE', 'CRASH TIME', 'BOROUGH', 'ZIP CODE', 'LATITUDE',\n",
      "       'LONGITUDE', 'LOCATION', 'ON STREET NAME', 'CROSS STREET NAME',\n",
      "       'OFF STREET NAME', 'NUMBER OF PERSONS INJURED',\n",
      "       'NUMBER OF PERSONS KILLED', 'NUMBER OF PEDESTRIANS INJURED',\n",
      "       'NUMBER OF PEDESTRIANS KILLED', 'NUMBER OF CYCLIST INJURED',\n",
      "       'NUMBER OF CYCLIST KILLED', 'NUMBER OF MOTORIST INJURED',\n",
      "       'NUMBER OF MOTORIST KILLED', 'CONTRIBUTING FACTOR VEHICLE 1',\n",
      "       'CONTRIBUTING FACTOR VEHICLE 2', 'CONTRIBUTING FACTOR VEHICLE 3',\n",
      "       'CONTRIBUTING FACTOR VEHICLE 4', 'CONTRIBUTING FACTOR VEHICLE 5',\n",
      "       'COLLISION_ID', 'VEHICLE TYPE CODE 1', 'VEHICLE TYPE CODE 2',\n",
      "       'VEHICLE TYPE CODE 3', 'VEHICLE TYPE CODE 4', 'VEHICLE TYPE CODE 5'],\n",
      "      dtype='object')\n"
     ]
    }
   ],
   "source": [
    "# Display the column names\n",
    "print(\"\\nColumn Names:\")\n",
    "print(df.columns)"
   ]
  },
  {
   "cell_type": "code",
   "execution_count": 8,
   "id": "d6170329-2967-4e61-870b-f6a437820a3f",
   "metadata": {
    "tags": []
   },
   "outputs": [
    {
     "name": "stdout",
     "output_type": "stream",
     "text": [
      "\n",
      "Missing Values:\n",
      "CRASH DATE                             0\n",
      "CRASH TIME                             0\n",
      "BOROUGH                           641733\n",
      "ZIP CODE                          641982\n",
      "LATITUDE                          232878\n",
      "LONGITUDE                         232878\n",
      "LOCATION                          232878\n",
      "ON STREET NAME                    437095\n",
      "CROSS STREET NAME                 778012\n",
      "OFF STREET NAME                  1718036\n",
      "NUMBER OF PERSONS INJURED             18\n",
      "NUMBER OF PERSONS KILLED              31\n",
      "NUMBER OF PEDESTRIANS INJURED          0\n",
      "NUMBER OF PEDESTRIANS KILLED           0\n",
      "NUMBER OF CYCLIST INJURED              0\n",
      "NUMBER OF CYCLIST KILLED               0\n",
      "NUMBER OF MOTORIST INJURED             0\n",
      "NUMBER OF MOTORIST KILLED              0\n",
      "CONTRIBUTING FACTOR VEHICLE 1       6700\n",
      "CONTRIBUTING FACTOR VEHICLE 2     318678\n",
      "CONTRIBUTING FACTOR VEHICLE 3    1915628\n",
      "CONTRIBUTING FACTOR VEHICLE 4    2029582\n",
      "CONTRIBUTING FACTOR VEHICLE 5    2053782\n",
      "COLLISION_ID                           0\n",
      "VEHICLE TYPE CODE 1                13456\n",
      "VEHICLE TYPE CODE 2               392319\n",
      "VEHICLE TYPE CODE 3              1920911\n",
      "VEHICLE TYPE CODE 4              2030726\n",
      "VEHICLE TYPE CODE 5              2054054\n",
      "dtype: int64\n"
     ]
    }
   ],
   "source": [
    "# Display missing values in the dataset\n",
    "print(\"\\nMissing Values:\")\n",
    "print(df.isnull().sum())"
   ]
  },
  {
   "cell_type": "code",
   "execution_count": 9,
   "id": "d3a26ae6-bed8-4147-92fb-aa07146da8b8",
   "metadata": {
    "tags": []
   },
   "outputs": [
    {
     "name": "stdout",
     "output_type": "stream",
     "text": [
      "\n",
      "Sample of the Dataset:\n",
      "         CRASH DATE CRASH TIME    BOROUGH ZIP CODE   LATITUDE  LONGITUDE  \\\n",
      "1287020  08/02/2015       2:30   BROOKLYN  11223.0  40.604195 -73.972177   \n",
      "1148810  04/07/2016      19:50  MANHATTAN  10027.0        NaN        NaN   \n",
      "182494   12/16/2020      19:04        NaN      NaN  40.683647 -73.946880   \n",
      "131845   05/24/2022      21:27        NaN      NaN  40.741734 -73.728300   \n",
      "1437839  11/10/2014      19:00      BRONX    10458  40.857795 -73.882628   \n",
      "894036   05/05/2017      10:40     QUEENS  11411.0  40.685120 -73.732220   \n",
      "1505979  07/07/2014      12:33   BROOKLYN    11216  40.672754 -73.954318   \n",
      "1994309  02/10/2023      17:00        NaN      NaN  40.821380 -73.954140   \n",
      "140551   08/06/2022      11:10  MANHATTAN  10016.0  40.747097 -73.983450   \n",
      "1022971  09/16/2016      15:00        NaN      NaN  40.666150 -73.841610   \n",
      "\n",
      "                          LOCATION                    ON STREET NAME  \\\n",
      "1287020  (40.6041946, -73.9721765)  MC DONALD AVENUE                   \n",
      "1148810                        NaN  WEST 125 STREET                    \n",
      "182494      (40.683647, -73.94688)  JEFFERSON AVENUE                   \n",
      "131845       (40.741734, -73.7283)              CROSS ISLAND PARKWAY   \n",
      "1437839  (40.8577946, -73.8826279)  EAST FORDHAM ROAD                  \n",
      "894036       (40.68512, -73.73222)  233 STREET                         \n",
      "1505979  (40.6727536, -73.9543177)  STERLING PLACE                     \n",
      "1994309      (40.82138, -73.95414)                          BROADWAY   \n",
      "140551      (40.747097, -73.98345)                    MADISON AVENUE   \n",
      "1022971      (40.66615, -73.84161)  BELT PARKWAY                       \n",
      "\n",
      "                        CROSS STREET NAME OFF STREET NAME  ...  \\\n",
      "1287020  KINGS HIGHWAY                                NaN  ...   \n",
      "1148810                          8 AVENUE             NaN  ...   \n",
      "182494                                NaN             NaN  ...   \n",
      "131845                                NaN             NaN  ...   \n",
      "1437839  CAMBRELENG AVENUE                            NaN  ...   \n",
      "894036                         121 AVENUE             NaN  ...   \n",
      "1505979  BEDFORD AVENUE                               NaN  ...   \n",
      "1994309                               NaN             NaN  ...   \n",
      "140551                     EAST 33 STREET             NaN  ...   \n",
      "1022971                               NaN             NaN  ...   \n",
      "\n",
      "         CONTRIBUTING FACTOR VEHICLE 2  CONTRIBUTING FACTOR VEHICLE 3  \\\n",
      "1287020                    Unspecified                            NaN   \n",
      "1148810                    Unspecified                            NaN   \n",
      "182494                     Unspecified                            NaN   \n",
      "131845                     Unspecified                            NaN   \n",
      "1437839                    Unspecified                            NaN   \n",
      "894036                     Unspecified                            NaN   \n",
      "1505979                    Unspecified                            NaN   \n",
      "1994309                            NaN                            NaN   \n",
      "140551            Unsafe Lane Changing                            NaN   \n",
      "1022971                    Unspecified                            NaN   \n",
      "\n",
      "         CONTRIBUTING FACTOR VEHICLE 4  CONTRIBUTING FACTOR VEHICLE 5  \\\n",
      "1287020                            NaN                            NaN   \n",
      "1148810                            NaN                            NaN   \n",
      "182494                             NaN                            NaN   \n",
      "131845                             NaN                            NaN   \n",
      "1437839                            NaN                            NaN   \n",
      "894036                             NaN                            NaN   \n",
      "1505979                            NaN                            NaN   \n",
      "1994309                            NaN                            NaN   \n",
      "140551                             NaN                            NaN   \n",
      "1022971                            NaN                            NaN   \n",
      "\n",
      "         COLLISION_ID                  VEHICLE TYPE CODE 1  \\\n",
      "1287020       3269585                    PASSENGER VEHICLE   \n",
      "1148810       3410165                           4 dr sedan   \n",
      "182494        4376693                                Sedan   \n",
      "131845        4530830                                Sedan   \n",
      "1437839       2822369                    PASSENGER VEHICLE   \n",
      "894036        3663618  Station Wagon/Sport Utility Vehicle   \n",
      "1505979        736226              SMALL COM VEH(4 TIRES)    \n",
      "1994309       4609675  Station Wagon/Sport Utility Vehicle   \n",
      "140551        4553122  Station Wagon/Sport Utility Vehicle   \n",
      "1022971       3521264                                Sedan   \n",
      "\n",
      "                         VEHICLE TYPE CODE 2  VEHICLE TYPE CODE 3  \\\n",
      "1287020        SPORT UTILITY / STATION WAGON                  NaN   \n",
      "1148810                        Pick-up Truck                  NaN   \n",
      "182494                                 Sedan                  NaN   \n",
      "131845   Station Wagon/Sport Utility Vehicle                  NaN   \n",
      "1437839                              UNKNOWN                  NaN   \n",
      "894036                                 Sedan                  NaN   \n",
      "1505979                    PASSENGER VEHICLE                  NaN   \n",
      "1994309                                  NaN                  NaN   \n",
      "140551                             Box Truck                  NaN   \n",
      "1022971  Station Wagon/Sport Utility Vehicle                  NaN   \n",
      "\n",
      "        VEHICLE TYPE CODE 4 VEHICLE TYPE CODE 5  \n",
      "1287020                 NaN                 NaN  \n",
      "1148810                 NaN                 NaN  \n",
      "182494                  NaN                 NaN  \n",
      "131845                  NaN                 NaN  \n",
      "1437839                 NaN                 NaN  \n",
      "894036                  NaN                 NaN  \n",
      "1505979                 NaN                 NaN  \n",
      "1994309                 NaN                 NaN  \n",
      "140551                  NaN                 NaN  \n",
      "1022971                 NaN                 NaN  \n",
      "\n",
      "[10 rows x 29 columns]\n"
     ]
    }
   ],
   "source": [
    "# Display a sample of the dataset\n",
    "print(\"\\nSample of the Dataset:\")\n",
    "print(df.sample(10))"
   ]
  },
  {
   "cell_type": "code",
   "execution_count": null,
   "id": "ab1c1360-7582-40d5-bfcf-b935fcd039c4",
   "metadata": {},
   "outputs": [],
   "source": []
  }
 ],
 "metadata": {
  "kernelspec": {
   "display_name": "Python 3 (ipykernel)",
   "language": "python",
   "name": "python3"
  },
  "language_info": {
   "codemirror_mode": {
    "name": "ipython",
    "version": 3
   },
   "file_extension": ".py",
   "mimetype": "text/x-python",
   "name": "python",
   "nbconvert_exporter": "python",
   "pygments_lexer": "ipython3",
   "version": "3.11.5"
  }
 },
 "nbformat": 4,
 "nbformat_minor": 5
}
