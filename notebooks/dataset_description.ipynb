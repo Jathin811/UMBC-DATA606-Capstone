{
 "cells": [
  {
   "cell_type": "code",
   "execution_count": 1,
   "id": "921d502e-a186-47ef-be85-538188d4b875",
   "metadata": {
    "tags": []
   },
   "outputs": [
    {
     "name": "stdout",
     "output_type": "stream",
     "text": [
      "Defaulting to user installation because normal site-packages is not writeable\n",
      "Requirement already satisfied: pandas in c:\\programdata\\anaconda3\\lib\\site-packages (2.0.3)\n",
      "Requirement already satisfied: python-dateutil>=2.8.2 in c:\\programdata\\anaconda3\\lib\\site-packages (from pandas) (2.8.2)\n",
      "Requirement already satisfied: pytz>=2020.1 in c:\\programdata\\anaconda3\\lib\\site-packages (from pandas) (2023.3.post1)\n",
      "Requirement already satisfied: tzdata>=2022.1 in c:\\programdata\\anaconda3\\lib\\site-packages (from pandas) (2023.3)\n",
      "Requirement already satisfied: numpy>=1.21.0 in c:\\programdata\\anaconda3\\lib\\site-packages (from pandas) (1.24.3)\n",
      "Requirement already satisfied: six>=1.5 in c:\\programdata\\anaconda3\\lib\\site-packages (from python-dateutil>=2.8.2->pandas) (1.16.0)\n"
     ]
    }
   ],
   "source": [
    "!pip install pandas"
   ]
  },
  {
   "cell_type": "code",
   "execution_count": 2,
   "id": "7cabfe80-d0a3-4218-8f03-6e13b9642525",
   "metadata": {
    "tags": []
   },
   "outputs": [],
   "source": [
    "import pandas as pd\n"
   ]
  },
  {
   "cell_type": "code",
   "execution_count": 3,
   "id": "016ca03a-3369-42c5-97d4-39cc560b29d2",
   "metadata": {
    "tags": []
   },
   "outputs": [
    {
     "name": "stderr",
     "output_type": "stream",
     "text": [
      "C:\\Users\\jathi\\AppData\\Local\\Temp\\ipykernel_19708\\3085491810.py:2: DtypeWarning: Columns (3) have mixed types. Specify dtype option on import or set low_memory=False.\n",
      "  df = pd.read_csv(file_path)\n"
     ]
    }
   ],
   "source": [
    "file_path = \"C:/Users/jathi/Downloads/Motor_Vehicle_Collisions_-_Crashes_20240204.csv\"\n",
    "df = pd.read_csv(file_path)"
   ]
  },
  {
   "cell_type": "code",
   "execution_count": 4,
   "id": "dc2b80e7-bdba-4ea8-84e2-90d4d36087f8",
   "metadata": {
    "tags": []
   },
   "outputs": [
    {
     "name": "stdout",
     "output_type": "stream",
     "text": [
      "Dataset Info:\n",
      "<class 'pandas.core.frame.DataFrame'>\n",
      "RangeIndex: 2062758 entries, 0 to 2062757\n",
      "Data columns (total 29 columns):\n",
      " #   Column                         Dtype  \n",
      "---  ------                         -----  \n",
      " 0   CRASH DATE                     object \n",
      " 1   CRASH TIME                     object \n",
      " 2   BOROUGH                        object \n",
      " 3   ZIP CODE                       object \n",
      " 4   LATITUDE                       float64\n",
      " 5   LONGITUDE                      float64\n",
      " 6   LOCATION                       object \n",
      " 7   ON STREET NAME                 object \n",
      " 8   CROSS STREET NAME              object \n",
      " 9   OFF STREET NAME                object \n",
      " 10  NUMBER OF PERSONS INJURED      float64\n",
      " 11  NUMBER OF PERSONS KILLED       float64\n",
      " 12  NUMBER OF PEDESTRIANS INJURED  int64  \n",
      " 13  NUMBER OF PEDESTRIANS KILLED   int64  \n",
      " 14  NUMBER OF CYCLIST INJURED      int64  \n",
      " 15  NUMBER OF CYCLIST KILLED       int64  \n",
      " 16  NUMBER OF MOTORIST INJURED     int64  \n",
      " 17  NUMBER OF MOTORIST KILLED      int64  \n",
      " 18  CONTRIBUTING FACTOR VEHICLE 1  object \n",
      " 19  CONTRIBUTING FACTOR VEHICLE 2  object \n",
      " 20  CONTRIBUTING FACTOR VEHICLE 3  object \n",
      " 21  CONTRIBUTING FACTOR VEHICLE 4  object \n",
      " 22  CONTRIBUTING FACTOR VEHICLE 5  object \n",
      " 23  COLLISION_ID                   int64  \n",
      " 24  VEHICLE TYPE CODE 1            object \n",
      " 25  VEHICLE TYPE CODE 2            object \n",
      " 26  VEHICLE TYPE CODE 3            object \n",
      " 27  VEHICLE TYPE CODE 4            object \n",
      " 28  VEHICLE TYPE CODE 5            object \n",
      "dtypes: float64(4), int64(7), object(18)\n",
      "memory usage: 456.4+ MB\n",
      "None\n"
     ]
    }
   ],
   "source": [
    "# Display basic information about the dataset\n",
    "print(\"Dataset Info:\")\n",
    "print(df.info())"
   ]
  },
  {
   "cell_type": "code",
   "execution_count": 5,
   "id": "683db366-f9f2-4508-902c-9d51117036c7",
   "metadata": {
    "tags": []
   },
   "outputs": [
    {
     "name": "stdout",
     "output_type": "stream",
     "text": [
      "\n",
      "Summary Statistics:\n",
      "           LATITUDE     LONGITUDE  NUMBER OF PERSONS INJURED  \\\n",
      "count  1.829880e+06  1.829880e+06               2.062740e+06   \n",
      "mean   4.062756e+01 -7.375189e+01               3.082298e-01   \n",
      "std    1.982301e+00  3.727058e+00               6.986642e-01   \n",
      "min    0.000000e+00 -2.013600e+02               0.000000e+00   \n",
      "25%    4.066783e+01 -7.397489e+01               0.000000e+00   \n",
      "50%    4.072085e+01 -7.392727e+01               0.000000e+00   \n",
      "75%    4.076958e+01 -7.386673e+01               0.000000e+00   \n",
      "max    4.334444e+01  0.000000e+00               4.300000e+01   \n",
      "\n",
      "       NUMBER OF PERSONS KILLED  NUMBER OF PEDESTRIANS INJURED  \\\n",
      "count              2.062727e+06                   2.062758e+06   \n",
      "mean               1.483473e-03                   5.624460e-02   \n",
      "std                4.064383e-02                   2.434961e-01   \n",
      "min                0.000000e+00                   0.000000e+00   \n",
      "25%                0.000000e+00                   0.000000e+00   \n",
      "50%                0.000000e+00                   0.000000e+00   \n",
      "75%                0.000000e+00                   0.000000e+00   \n",
      "max                8.000000e+00                   2.700000e+01   \n",
      "\n",
      "       NUMBER OF PEDESTRIANS KILLED  NUMBER OF CYCLIST INJURED  \\\n",
      "count                  2.062758e+06               2.062758e+06   \n",
      "mean                   7.373623e-04               2.671326e-02   \n",
      "std                    2.762241e-02               1.632521e-01   \n",
      "min                    0.000000e+00               0.000000e+00   \n",
      "25%                    0.000000e+00               0.000000e+00   \n",
      "50%                    0.000000e+00               0.000000e+00   \n",
      "75%                    0.000000e+00               0.000000e+00   \n",
      "max                    6.000000e+00               4.000000e+00   \n",
      "\n",
      "       NUMBER OF CYCLIST KILLED  NUMBER OF MOTORIST INJURED  \\\n",
      "count              2.062758e+06                2.062758e+06   \n",
      "mean               1.134404e-04                2.217158e-01   \n",
      "std                1.069566e-02                6.597275e-01   \n",
      "min                0.000000e+00                0.000000e+00   \n",
      "25%                0.000000e+00                0.000000e+00   \n",
      "50%                0.000000e+00                0.000000e+00   \n",
      "75%                0.000000e+00                0.000000e+00   \n",
      "max                2.000000e+00                4.300000e+01   \n",
      "\n",
      "       NUMBER OF MOTORIST KILLED  COLLISION_ID  \n",
      "count               2.062758e+06  2.062758e+06  \n",
      "mean                6.093783e-04  3.150132e+06  \n",
      "std                 2.704023e-02  1.504865e+06  \n",
      "min                 0.000000e+00  2.200000e+01  \n",
      "25%                 0.000000e+00  3.151809e+06  \n",
      "50%                 0.000000e+00  3.667618e+06  \n",
      "75%                 0.000000e+00  4.183548e+06  \n",
      "max                 5.000000e+00  4.699551e+06  \n"
     ]
    }
   ],
   "source": [
    "# Display basic statistics of numeric columns\n",
    "print(\"\\nSummary Statistics:\")\n",
    "print(df.describe())"
   ]
  },
  {
   "cell_type": "code",
   "execution_count": null,
   "id": "c6282f37-8160-47e1-9ca4-2ebeaf566965",
   "metadata": {},
   "outputs": [],
   "source": []
  }
 ],
 "metadata": {
  "kernelspec": {
   "display_name": "Python 3 (ipykernel)",
   "language": "python",
   "name": "python3"
  },
  "language_info": {
   "codemirror_mode": {
    "name": "ipython",
    "version": 3
   },
   "file_extension": ".py",
   "mimetype": "text/x-python",
   "name": "python",
   "nbconvert_exporter": "python",
   "pygments_lexer": "ipython3",
   "version": "3.11.5"
  }
 },
 "nbformat": 4,
 "nbformat_minor": 5
}
